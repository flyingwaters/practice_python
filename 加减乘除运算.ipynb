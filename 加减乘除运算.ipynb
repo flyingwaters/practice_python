{
 "cells": [
  {
   "cell_type": "markdown",
   "id": "604c1dbd-4724-450a-94d7-af8678f99188",
   "metadata": {},
   "source": [
    "# 生成+- 的整数运算题"
   ]
  },
  {
   "cell_type": "markdown",
   "id": "027e3731-5b43-4ee7-979e-7403177c274d",
   "metadata": {},
   "source": [
    "### random 模块"
   ]
  },
  {
   "cell_type": "code",
   "execution_count": 1,
   "id": "6dfa8092-8e72-4137-8f2e-da602cfa24d2",
   "metadata": {
    "ExecutionIndicator": {
     "show": true
    },
    "execution": {
     "iopub.execute_input": "2023-11-08T08:09:44.216522Z",
     "iopub.status.busy": "2023-11-08T08:09:44.216239Z",
     "iopub.status.idle": "2023-11-08T08:09:44.224169Z",
     "shell.execute_reply": "2023-11-08T08:09:44.223743Z",
     "shell.execute_reply.started": "2023-11-08T08:09:44.216506Z"
    },
    "tags": []
   },
   "outputs": [
    {
     "data": {
      "text/plain": [
       "(22, 85)"
      ]
     },
     "execution_count": 1,
     "metadata": {},
     "output_type": "execute_result"
    }
   ],
   "source": [
    "import random\n",
    "a = random.randint(1, 100)\n",
    "b = random.randint(1, 100)\n",
    "a, b"
   ]
  },
  {
   "cell_type": "code",
   "execution_count": 2,
   "id": "5695b304-0f0b-4ce8-9050-ad870ca6b61b",
   "metadata": {
    "ExecutionIndicator": {
     "show": true
    },
    "execution": {
     "iopub.execute_input": "2023-11-08T08:09:44.224984Z",
     "iopub.status.busy": "2023-11-08T08:09:44.224750Z",
     "iopub.status.idle": "2023-11-08T08:09:44.227709Z",
     "shell.execute_reply": "2023-11-08T08:09:44.227301Z",
     "shell.execute_reply.started": "2023-11-08T08:09:44.224969Z"
    },
    "tags": []
   },
   "outputs": [
    {
     "data": {
      "text/plain": [
       "'-'"
      ]
     },
     "execution_count": 2,
     "metadata": {},
     "output_type": "execute_result"
    }
   ],
   "source": [
    "operator = random.choice([\"+\",\"-\"])\n",
    "operator"
   ]
  },
  {
   "cell_type": "markdown",
   "id": "cbcb3dc8-ebea-4238-a783-ddd624d25d97",
   "metadata": {},
   "source": [
    "### 生成问题"
   ]
  },
  {
   "cell_type": "markdown",
   "id": "78157782-db28-4bfe-83fe-149de6f9f8c1",
   "metadata": {},
   "source": [
    "f-string 是 Python3.6 版本开始引入的特性，想必很多 Python 用户都基础性的使用过，通过它我们可以更加方便地向字符串中嵌入自定义内容，\n",
    "但 f-string 真正蕴含的功能远比大多数用户知道的要丰富，今天我们就来一起探索它们！\n",
    "question = f\"{} \" "
   ]
  },
  {
   "cell_type": "code",
   "execution_count": 3,
   "id": "79c03930-2aec-42f3-8917-0d857d4abc6a",
   "metadata": {
    "ExecutionIndicator": {
     "show": true
    },
    "execution": {
     "iopub.execute_input": "2023-11-08T08:09:44.228464Z",
     "iopub.status.busy": "2023-11-08T08:09:44.228254Z",
     "iopub.status.idle": "2023-11-08T08:09:44.231377Z",
     "shell.execute_reply": "2023-11-08T08:09:44.230907Z",
     "shell.execute_reply.started": "2023-11-08T08:09:44.228451Z"
    },
    "tags": []
   },
   "outputs": [
    {
     "data": {
      "text/plain": [
       "'please answer: 22-85?'"
      ]
     },
     "execution_count": 3,
     "metadata": {},
     "output_type": "execute_result"
    }
   ],
   "source": [
    "expression = f\"{a}{operator}{b}\"\n",
    "question = f\"please answer: {expression}?\"\n",
    "question"
   ]
  },
  {
   "cell_type": "markdown",
   "id": "31cebdf9-8db2-4ebf-9a30-31e650131562",
   "metadata": {},
   "source": [
    "## 接收答案"
   ]
  },
  {
   "cell_type": "code",
   "execution_count": 4,
   "id": "df88071a-ae23-4587-b66a-58b5aad1dea2",
   "metadata": {
    "ExecutionIndicator": {
     "show": true
    },
    "execution": {
     "iopub.execute_input": "2023-11-08T08:09:44.232688Z",
     "iopub.status.busy": "2023-11-08T08:09:44.232466Z",
     "iopub.status.idle": "2023-11-08T08:09:49.341727Z",
     "shell.execute_reply": "2023-11-08T08:09:49.341231Z",
     "shell.execute_reply.started": "2023-11-08T08:09:44.232674Z"
    },
    "tags": []
   },
   "outputs": [
    {
     "name": "stdin",
     "output_type": "stream",
     "text": [
      "please input your answer 5\n"
     ]
    }
   ],
   "source": [
    "# python 内置函数\n",
    "while True:\n",
    "    ans = input(\"please input your answer\")\n",
    "    try:\n",
    "        ans = int(ans)\n",
    "    except:\n",
    "        print(\"wrong input， you must input a integer\")\n",
    "        continue\n",
    "    break"
   ]
  },
  {
   "cell_type": "markdown",
   "id": "3f1ef784-601d-4d48-8476-acfab005f816",
   "metadata": {},
   "source": [
    "## check the answer"
   ]
  },
  {
   "cell_type": "code",
   "execution_count": 5,
   "id": "306de417-a04f-4849-b7b5-d54640a7fbcc",
   "metadata": {
    "ExecutionIndicator": {
     "show": true
    },
    "execution": {
     "iopub.execute_input": "2023-11-08T08:09:49.342513Z",
     "iopub.status.busy": "2023-11-08T08:09:49.342362Z",
     "iopub.status.idle": "2023-11-08T08:09:49.346277Z",
     "shell.execute_reply": "2023-11-08T08:09:49.345831Z",
     "shell.execute_reply.started": "2023-11-08T08:09:49.342498Z"
    },
    "tags": []
   },
   "outputs": [
    {
     "name": "stdout",
     "output_type": "stream",
     "text": [
      "question: 22-85 ans: 5\n"
     ]
    },
    {
     "data": {
      "text/plain": [
       "False"
      ]
     },
     "execution_count": 5,
     "metadata": {},
     "output_type": "execute_result"
    }
   ],
   "source": [
    "print(\"question:\", expression, \"ans:\", ans)\n",
    "ans == eval(expression)"
   ]
  },
  {
   "cell_type": "markdown",
   "id": "ffcbaa7c-a0b0-4567-b54d-94e25522fa28",
   "metadata": {},
   "source": [
    "## 封装为函数 和 类"
   ]
  },
  {
   "cell_type": "code",
   "execution_count": 8,
   "id": "cb2a00f5-f93e-42d3-9eec-f459b24e9480",
   "metadata": {
    "ExecutionIndicator": {
     "show": false
    },
    "execution": {
     "iopub.execute_input": "2023-11-08T08:10:56.319433Z",
     "iopub.status.busy": "2023-11-08T08:10:56.319106Z",
     "iopub.status.idle": "2023-11-08T08:10:56.324414Z",
     "shell.execute_reply": "2023-11-08T08:10:56.323930Z",
     "shell.execute_reply.started": "2023-11-08T08:10:56.319414Z"
    },
    "tags": []
   },
   "outputs": [],
   "source": [
    "import random\n",
    "import abc\n",
    "\n",
    "class base_cacQuestion(metaclass=abc.ABCMeta):\n",
    "    \"\"\"\n",
    "    基础类 定义标准接口和规范\n",
    "    \"\"\"\n",
    "    @abc.abstractmethod\n",
    "    def gen_expression_question():\n",
    "        raise NotImplemented(\"implement me\")\n",
    "    \n",
    "    @abc.abstractmethod\n",
    "    def check_ans():\n",
    "        raise NotImplemented(\"implement me\")\n",
    "        \n",
    "class int_cac(base_cacQuestion):\n",
    "    \"\"\"整数加减法的考试类\n",
    "    \"\"\"\n",
    "    def gen_expression_question(self, start:int, end:int)->None:\n",
    "        operators=[\"+\", \"-\"]\n",
    "        op = random.choice(operators)\n",
    "        \n",
    "        a = random.randint(start, end)\n",
    "        if op==\"-\":\n",
    "            # 保证结果正数\n",
    "            b = random.randint(start, a)\n",
    "        else:\n",
    "            b = random.randint(start, end)\n",
    "        \n",
    "        self.expression = f\"{a}{op}{b}\"\n",
    "        question = f\"please answer: {self.expression}?\"\n",
    "        print(question)\n",
    "    \n",
    "    def get_ans(self)->int:\n",
    "        ''' 获取输入结果\n",
    "        '''\n",
    "        while True:\n",
    "            ans = input(\"please input your answer\")\n",
    "            try:\n",
    "                ans = int(ans)\n",
    "            except:\n",
    "                print(\"wrong input， you must input a integer\")\n",
    "                continue\n",
    "            break\n",
    "        return ans\n",
    "    \n",
    "    def check_ans(self, ans):\n",
    "        return eval(self.expression) == ans\n",
    "        \n",
    "    "
   ]
  },
  {
   "cell_type": "code",
   "execution_count": 9,
   "id": "88a1c96b-4155-48ec-8cca-ddaf818245b1",
   "metadata": {
    "ExecutionIndicator": {
     "show": true
    },
    "execution": {
     "iopub.execute_input": "2023-11-08T08:10:58.158390Z",
     "iopub.status.busy": "2023-11-08T08:10:58.158069Z",
     "iopub.status.idle": "2023-11-08T08:11:01.706622Z",
     "shell.execute_reply": "2023-11-08T08:11:01.706100Z",
     "shell.execute_reply.started": "2023-11-08T08:10:58.158371Z"
    },
    "tags": []
   },
   "outputs": [
    {
     "name": "stdout",
     "output_type": "stream",
     "text": [
      "please answer: 29-13?\n"
     ]
    },
    {
     "name": "stdin",
     "output_type": "stream",
     "text": [
      "please input your answer 16\n"
     ]
    },
    {
     "name": "stdout",
     "output_type": "stream",
     "text": [
      "your answer is right\n"
     ]
    }
   ],
   "source": [
    "cac = int_cac()\n",
    "cac.gen_expression_question(1, 100)\n",
    "ans = cac.get_ans()\n",
    "result = cac.check_ans(ans)\n",
    "if result:\n",
    "    print(\"your answer is right\")\n",
    "else:\n",
    "    print(\"your answer is false\")"
   ]
  },
  {
   "cell_type": "markdown",
   "id": "9f9e5911-a4ba-49bf-a73f-b4b00dce2300",
   "metadata": {},
   "source": [
    "## 100 道题"
   ]
  },
  {
   "cell_type": "code",
   "execution_count": null,
   "id": "c4835b4b-2b55-45c4-ae82-bdca7255cf26",
   "metadata": {
    "ExecutionIndicator": {
     "show": true
    },
    "tags": []
   },
   "outputs": [],
   "source": [
    "from IPython.display import clear_output\n",
    "import os\n",
    "\n",
    "right_num = 0\n",
    "for i in range(100):\n",
    "    cac.gen_expression_question(1, 100)\n",
    "    ans = cac.get_ans()\n",
    "    result = cac.check_ans(ans)\n",
    "    if result:\n",
    "        right_num+=1\n",
    "        print(f\"practice: {i+1} is right\")\n",
    "    else:\n",
    "        print(f\"practice: {i+1} is false\")\n",
    "    print(\"----------------------\")\n",
    "    print()"
   ]
  },
  {
   "cell_type": "code",
   "execution_count": null,
   "id": "76ae0077-b686-417c-b274-64e6ed219fa9",
   "metadata": {},
   "outputs": [],
   "source": []
  }
 ],
 "metadata": {
  "kernelspec": {
   "display_name": "Python 3 (ipykernel)",
   "language": "python",
   "name": "python3"
  },
  "language_info": {
   "codemirror_mode": {
    "name": "ipython",
    "version": 3
   },
   "file_extension": ".py",
   "mimetype": "text/x-python",
   "name": "python",
   "nbconvert_exporter": "python",
   "pygments_lexer": "ipython3",
   "version": "3.8.16"
  }
 },
 "nbformat": 4,
 "nbformat_minor": 5
}
