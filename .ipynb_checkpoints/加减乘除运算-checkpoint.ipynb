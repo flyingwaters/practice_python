{
 "cells": [
  {
   "cell_type": "markdown",
   "id": "604c1dbd-4724-450a-94d7-af8678f99188",
   "metadata": {},
   "source": [
    "# 生成+- 的整数运算题"
   ]
  },
  {
   "cell_type": "markdown",
   "id": "027e3731-5b43-4ee7-979e-7403177c274d",
   "metadata": {},
   "source": [
    "### random 模块"
   ]
  },
  {
   "cell_type": "code",
   "execution_count": 9,
   "id": "6dfa8092-8e72-4137-8f2e-da602cfa24d2",
   "metadata": {
    "ExecutionIndicator": {
     "show": true
    },
    "execution": {
     "iopub.execute_input": "2023-11-08T06:50:49.915760Z",
     "iopub.status.busy": "2023-11-08T06:50:49.915296Z",
     "iopub.status.idle": "2023-11-08T06:50:49.919869Z",
     "shell.execute_reply": "2023-11-08T06:50:49.919290Z",
     "shell.execute_reply.started": "2023-11-08T06:50:49.915740Z"
    },
    "tags": []
   },
   "outputs": [
    {
     "data": {
      "text/plain": [
       "(14, 7)"
      ]
     },
     "execution_count": 9,
     "metadata": {},
     "output_type": "execute_result"
    }
   ],
   "source": [
    "import random\n",
    "a = random.randint(1, 100)\n",
    "b = random.randint(1, 100)\n",
    "a,b"
   ]
  },
  {
   "cell_type": "code",
   "execution_count": 8,
   "id": "5695b304-0f0b-4ce8-9050-ad870ca6b61b",
   "metadata": {
    "ExecutionIndicator": {
     "show": true
    },
    "execution": {
     "iopub.execute_input": "2023-11-08T06:50:23.881687Z",
     "iopub.status.busy": "2023-11-08T06:50:23.881365Z",
     "iopub.status.idle": "2023-11-08T06:50:23.885796Z",
     "shell.execute_reply": "2023-11-08T06:50:23.885164Z",
     "shell.execute_reply.started": "2023-11-08T06:50:23.881669Z"
    },
    "tags": []
   },
   "outputs": [
    {
     "data": {
      "text/plain": [
       "'+'"
      ]
     },
     "execution_count": 8,
     "metadata": {},
     "output_type": "execute_result"
    }
   ],
   "source": [
    "operator = random.choice([\"+\",\"-\"])\n",
    "operator"
   ]
  },
  {
   "cell_type": "markdown",
   "id": "cbcb3dc8-ebea-4238-a783-ddd624d25d97",
   "metadata": {},
   "source": [
    "### 生成问题"
   ]
  },
  {
   "cell_type": "markdown",
   "id": "78157782-db28-4bfe-83fe-149de6f9f8c1",
   "metadata": {},
   "source": [
    "f-string 是 Python3.6 版本开始引入的特性，想必很多 Python 用户都基础性的使用过，通过它我们可以更加方便地向字符串中嵌入自定义内容，\n",
    "但 f-string 真正蕴含的功能远比大多数用户知道的要丰富，今天我们就来一起探索它们！\n",
    "question = f\"{} \" "
   ]
  },
  {
   "cell_type": "code",
   "execution_count": 13,
   "id": "79c03930-2aec-42f3-8917-0d857d4abc6a",
   "metadata": {
    "ExecutionIndicator": {
     "show": true
    },
    "execution": {
     "iopub.execute_input": "2023-11-08T06:59:59.034593Z",
     "iopub.status.busy": "2023-11-08T06:59:59.034245Z",
     "iopub.status.idle": "2023-11-08T06:59:59.037846Z",
     "shell.execute_reply": "2023-11-08T06:59:59.037401Z",
     "shell.execute_reply.started": "2023-11-08T06:59:59.034574Z"
    },
    "tags": []
   },
   "outputs": [
    {
     "data": {
      "text/plain": [
       "'please answer: 14+7? '"
      ]
     },
     "execution_count": 13,
     "metadata": {},
     "output_type": "execute_result"
    }
   ],
   "source": [
    "question = f\"please answer: {a}{operator}{b}? \"\n",
    "question"
   ]
  },
  {
   "cell_type": "markdown",
   "id": "31cebdf9-8db2-4ebf-9a30-31e650131562",
   "metadata": {},
   "source": [
    "## 接收答案"
   ]
  },
  {
   "cell_type": "code",
   "execution_count": null,
   "id": "df88071a-ae23-4587-b66a-58b5aad1dea2",
   "metadata": {
    "ExecutionIndicator": {
     "show": true
    },
    "tags": []
   },
   "outputs": [],
   "source": [
    "# python 内置函数\n",
    "while True:\n",
    "    ans = input(\"please input your answer\")\n",
    "    try:\n",
    "        ans = int(ans)\n",
    "    except:\n",
    "        raise(\"wrong input， you must input a integer\")\n",
    "        continue\n",
    "    break\n",
    "    "
   ]
  },
  {
   "cell_type": "code",
   "execution_count": 18,
   "id": "306de417-a04f-4849-b7b5-d54640a7fbcc",
   "metadata": {
    "ExecutionIndicator": {
     "show": true
    },
    "execution": {
     "iopub.execute_input": "2023-11-08T07:12:32.397820Z",
     "iopub.status.busy": "2023-11-08T07:12:32.397474Z",
     "iopub.status.idle": "2023-11-08T07:12:32.400896Z",
     "shell.execute_reply": "2023-11-08T07:12:32.400477Z",
     "shell.execute_reply.started": "2023-11-08T07:12:32.397801Z"
    },
    "tags": []
   },
   "outputs": [
    {
     "data": {
      "text/plain": [
       "9"
      ]
     },
     "execution_count": 18,
     "metadata": {},
     "output_type": "execute_result"
    }
   ],
   "source": [
    "ans"
   ]
  },
  {
   "cell_type": "code",
   "execution_count": null,
   "id": "ed5fb0a6-f248-49f9-bc13-b40454a92753",
   "metadata": {},
   "outputs": [],
   "source": []
  }
 ],
 "metadata": {
  "kernelspec": {
   "display_name": "Python 3 (ipykernel)",
   "language": "python",
   "name": "python3"
  },
  "language_info": {
   "codemirror_mode": {
    "name": "ipython",
    "version": 3
   },
   "file_extension": ".py",
   "mimetype": "text/x-python",
   "name": "python",
   "nbconvert_exporter": "python",
   "pygments_lexer": "ipython3",
   "version": "3.8.16"
  }
 },
 "nbformat": 4,
 "nbformat_minor": 5
}
